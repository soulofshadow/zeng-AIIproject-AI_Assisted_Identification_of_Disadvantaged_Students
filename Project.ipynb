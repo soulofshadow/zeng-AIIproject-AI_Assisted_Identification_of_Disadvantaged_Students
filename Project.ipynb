{
 "cells": [
  {
   "cell_type": "markdown",
   "metadata": {},
   "source": [
    "### Load Data"
   ]
  },
  {
   "cell_type": "code",
   "execution_count": 1,
   "metadata": {},
   "outputs": [],
   "source": [
    "from src.data_load import DataLoader\n",
    "import matplotlib.pyplot as plt\n",
    "import seaborn as sns\n",
    "import pandas as pd\n",
    "import numpy as np\n",
    "'''\n",
    "missing data fix strategy\n",
    "[simple_most_frequent, knn, mice, miwae]\n",
    "'''\n",
    "\n",
    "dataset_path = './data/USE-CASE-S2-disadvantaged-students/ULL_dataset.csv'\n",
    "dataset_dict_path = './data/USE-CASE-S2-disadvantaged-students/ULL_complete_database.xlsx'\n",
    "\n",
    "dataLoader = DataLoader(dataset_path, dataset_dict_path)"
   ]
  },
  {
   "cell_type": "code",
   "execution_count": 2,
   "metadata": {},
   "outputs": [],
   "source": [
    "dataset = dataLoader.dataset_3_17"
   ]
  },
  {
   "cell_type": "code",
   "execution_count": 3,
   "metadata": {},
   "outputs": [
    {
     "name": "stdout",
     "output_type": "stream",
     "text": [
      "score_MAT (3140, 524)\n",
      "score_LEN (3136, 524)\n"
     ]
    }
   ],
   "source": [
    "dataset = dataLoader.get_split(dataset, is_level=False, feature_filter=False)\n",
    "for i in dataset:\n",
    "    print(i[0], i[1].shape)"
   ]
  },
  {
   "cell_type": "code",
   "execution_count": 4,
   "metadata": {},
   "outputs": [],
   "source": [
    "dataset = dataset[0][1]"
   ]
  },
  {
   "cell_type": "markdown",
   "metadata": {},
   "source": [
    "### Imputation"
   ]
  },
  {
   "cell_type": "code",
   "execution_count": 5,
   "metadata": {},
   "outputs": [],
   "source": [
    "#impyute\n",
    "dataset = dataLoader.get_imputated(dataset, 'simple_most_frequent')\n",
    "\n",
    "#transfer int\n",
    "for column in dataset.columns:\n",
    "    if dataset[column].dtype == float:\n",
    "        if (dataset[column].dropna() % 1 == 0).all():\n",
    "            dataset[column] = dataset[column].astype(int)"
   ]
  },
  {
   "cell_type": "code",
   "execution_count": 6,
   "metadata": {},
   "outputs": [
    {
     "data": {
      "text/html": [
       "<div>\n",
       "<style scoped>\n",
       "    .dataframe tbody tr th:only-of-type {\n",
       "        vertical-align: middle;\n",
       "    }\n",
       "\n",
       "    .dataframe tbody tr th {\n",
       "        vertical-align: top;\n",
       "    }\n",
       "\n",
       "    .dataframe thead th {\n",
       "        text-align: right;\n",
       "    }\n",
       "</style>\n",
       "<table border=\"1\" class=\"dataframe\">\n",
       "  <thead>\n",
       "    <tr style=\"text-align: right;\">\n",
       "      <th></th>\n",
       "      <th>score_MAT</th>\n",
       "      <th>a1</th>\n",
       "      <th>a2</th>\n",
       "      <th>living_with_father_mother</th>\n",
       "      <th>a3c</th>\n",
       "      <th>a3d</th>\n",
       "      <th>a3et</th>\n",
       "      <th>repeater</th>\n",
       "      <th>a5</th>\n",
       "      <th>a6nm</th>\n",
       "      <th>...</th>\n",
       "      <th>p311b</th>\n",
       "      <th>p311c</th>\n",
       "      <th>p311e</th>\n",
       "      <th>p311f</th>\n",
       "      <th>p311g</th>\n",
       "      <th>p311h</th>\n",
       "      <th>p331b</th>\n",
       "      <th>p331e</th>\n",
       "      <th>p331f</th>\n",
       "      <th>p331g</th>\n",
       "    </tr>\n",
       "  </thead>\n",
       "  <tbody>\n",
       "    <tr>\n",
       "      <th>0</th>\n",
       "      <td>511.0468</td>\n",
       "      <td>2</td>\n",
       "      <td>2008</td>\n",
       "      <td>1</td>\n",
       "      <td>1</td>\n",
       "      <td>2</td>\n",
       "      <td>2</td>\n",
       "      <td>1</td>\n",
       "      <td>4</td>\n",
       "      <td>30</td>\n",
       "      <td>...</td>\n",
       "      <td>4</td>\n",
       "      <td>4</td>\n",
       "      <td>4</td>\n",
       "      <td>4</td>\n",
       "      <td>3</td>\n",
       "      <td>4</td>\n",
       "      <td>4</td>\n",
       "      <td>4</td>\n",
       "      <td>4</td>\n",
       "      <td>1</td>\n",
       "    </tr>\n",
       "    <tr>\n",
       "      <th>1</th>\n",
       "      <td>281.2682</td>\n",
       "      <td>1</td>\n",
       "      <td>2008</td>\n",
       "      <td>1</td>\n",
       "      <td>1</td>\n",
       "      <td>2</td>\n",
       "      <td>2</td>\n",
       "      <td>1</td>\n",
       "      <td>4</td>\n",
       "      <td>30</td>\n",
       "      <td>...</td>\n",
       "      <td>4</td>\n",
       "      <td>3</td>\n",
       "      <td>3</td>\n",
       "      <td>4</td>\n",
       "      <td>3</td>\n",
       "      <td>4</td>\n",
       "      <td>4</td>\n",
       "      <td>4</td>\n",
       "      <td>4</td>\n",
       "      <td>4</td>\n",
       "    </tr>\n",
       "    <tr>\n",
       "      <th>2</th>\n",
       "      <td>495.9857</td>\n",
       "      <td>1</td>\n",
       "      <td>2008</td>\n",
       "      <td>2</td>\n",
       "      <td>2</td>\n",
       "      <td>2</td>\n",
       "      <td>2</td>\n",
       "      <td>1</td>\n",
       "      <td>4</td>\n",
       "      <td>30</td>\n",
       "      <td>...</td>\n",
       "      <td>3</td>\n",
       "      <td>3</td>\n",
       "      <td>3</td>\n",
       "      <td>3</td>\n",
       "      <td>3</td>\n",
       "      <td>3</td>\n",
       "      <td>1</td>\n",
       "      <td>2</td>\n",
       "      <td>3</td>\n",
       "      <td>3</td>\n",
       "    </tr>\n",
       "    <tr>\n",
       "      <th>3</th>\n",
       "      <td>439.4041</td>\n",
       "      <td>2</td>\n",
       "      <td>2008</td>\n",
       "      <td>2</td>\n",
       "      <td>1</td>\n",
       "      <td>2</td>\n",
       "      <td>2</td>\n",
       "      <td>1</td>\n",
       "      <td>4</td>\n",
       "      <td>30</td>\n",
       "      <td>...</td>\n",
       "      <td>4</td>\n",
       "      <td>4</td>\n",
       "      <td>4</td>\n",
       "      <td>4</td>\n",
       "      <td>4</td>\n",
       "      <td>4</td>\n",
       "      <td>4</td>\n",
       "      <td>4</td>\n",
       "      <td>4</td>\n",
       "      <td>4</td>\n",
       "    </tr>\n",
       "    <tr>\n",
       "      <th>4</th>\n",
       "      <td>447.6379</td>\n",
       "      <td>2</td>\n",
       "      <td>2008</td>\n",
       "      <td>1</td>\n",
       "      <td>1</td>\n",
       "      <td>2</td>\n",
       "      <td>2</td>\n",
       "      <td>1</td>\n",
       "      <td>4</td>\n",
       "      <td>60</td>\n",
       "      <td>...</td>\n",
       "      <td>4</td>\n",
       "      <td>3</td>\n",
       "      <td>3</td>\n",
       "      <td>3</td>\n",
       "      <td>3</td>\n",
       "      <td>3</td>\n",
       "      <td>4</td>\n",
       "      <td>4</td>\n",
       "      <td>1</td>\n",
       "      <td>1</td>\n",
       "    </tr>\n",
       "  </tbody>\n",
       "</table>\n",
       "<p>5 rows × 326 columns</p>\n",
       "</div>"
      ],
      "text/plain": [
       "   score_MAT  a1    a2  living_with_father_mother  a3c  a3d  a3et  repeater  \\\n",
       "0   511.0468   2  2008                          1    1    2     2         1   \n",
       "1   281.2682   1  2008                          1    1    2     2         1   \n",
       "2   495.9857   1  2008                          2    2    2     2         1   \n",
       "3   439.4041   2  2008                          2    1    2     2         1   \n",
       "4   447.6379   2  2008                          1    1    2     2         1   \n",
       "\n",
       "   a5  a6nm  ...  p311b  p311c  p311e  p311f  p311g  p311h  p331b  p331e  \\\n",
       "0   4    30  ...      4      4      4      4      3      4      4      4   \n",
       "1   4    30  ...      4      3      3      4      3      4      4      4   \n",
       "2   4    30  ...      3      3      3      3      3      3      1      2   \n",
       "3   4    30  ...      4      4      4      4      4      4      4      4   \n",
       "4   4    60  ...      4      3      3      3      3      3      4      4   \n",
       "\n",
       "   p331f  p331g  \n",
       "0      4      1  \n",
       "1      4      4  \n",
       "2      3      3  \n",
       "3      4      4  \n",
       "4      1      1  \n",
       "\n",
       "[5 rows x 326 columns]"
      ]
     },
     "execution_count": 6,
     "metadata": {},
     "output_type": "execute_result"
    }
   ],
   "source": [
    "dataset.head()"
   ]
  },
  {
   "cell_type": "markdown",
   "metadata": {},
   "source": [
    "### Fair Balance"
   ]
  },
  {
   "cell_type": "code",
   "execution_count": 20,
   "metadata": {},
   "outputs": [
    {
     "name": "stdout",
     "output_type": "stream",
     "text": [
      "Before balance DIDI: 30.26877401056079\n"
     ]
    }
   ],
   "source": [
    "#metrics\n",
    "from src.didi_metrics import DIDI\n",
    "from src.disparate_impact import evaluation_report\n",
    "#balance\n",
    "from src.data_fairness import MakeFair\n",
    "\n",
    "columns = dataset.columns\n",
    "protected_attributes = [column for column in columns if column in dataLoader.sensitive_features]\n",
    "target = columns[0]\n",
    "\n",
    "didi = DIDI(False, protected_attributes)\n",
    "didi_result_before = didi(dataset, dataset['score_MAT'])\n",
    "print(f'Before balance DIDI: {didi_result_before}')"
   ]
  },
  {
   "cell_type": "code",
   "execution_count": 13,
   "metadata": {},
   "outputs": [
    {
     "name": "stdout",
     "output_type": "stream",
     "text": [
      "Balancing the sensitive attributes...\n",
      "View Progress: 1 of 4\n",
      "Sensitive attribute: a1\n",
      "Combination frequency: [824, 869, 755, 692]\n",
      "Combination frequency target: 869\n",
      "\n",
      "\n",
      "View Progress: 2 of 4\n",
      "Sensitive attribute: repeater\n",
      "Combination frequency: [1399, 1494, 180, 67]\n",
      "Combination frequency target: 1494\n",
      "\n",
      "\n",
      "View Progress: 3 of 4\n",
      "Sensitive attribute: capital_island\n",
      "Combination frequency: [1217, 1252, 362, 309]\n",
      "Combination frequency target: 1252\n",
      "\n",
      "\n",
      "View Progress: 4 of 4\n",
      "Sensitive attribute: public_private\n",
      "Combination frequency: [272, 464, 1307, 1097]\n",
      "Combination frequency target: 1307\n",
      "\n",
      "\n"
     ]
    }
   ],
   "source": [
    "# balance dataset\n",
    "makefair = MakeFair(target, protected_attributes)\n",
    "final_dataset = makefair.balance(dataset)"
   ]
  },
  {
   "cell_type": "code",
   "execution_count": 14,
   "metadata": {},
   "outputs": [
    {
     "data": {
      "text/html": [
       "<div>\n",
       "<style scoped>\n",
       "    .dataframe tbody tr th:only-of-type {\n",
       "        vertical-align: middle;\n",
       "    }\n",
       "\n",
       "    .dataframe tbody tr th {\n",
       "        vertical-align: top;\n",
       "    }\n",
       "\n",
       "    .dataframe thead th {\n",
       "        text-align: right;\n",
       "    }\n",
       "</style>\n",
       "<table border=\"1\" class=\"dataframe\">\n",
       "  <thead>\n",
       "    <tr style=\"text-align: right;\">\n",
       "      <th></th>\n",
       "      <th>Attribute</th>\n",
       "      <th>Disparate Impact</th>\n",
       "    </tr>\n",
       "  </thead>\n",
       "  <tbody>\n",
       "    <tr>\n",
       "      <th>0</th>\n",
       "      <td>a1, y=1</td>\n",
       "      <td>1.006331</td>\n",
       "    </tr>\n",
       "    <tr>\n",
       "      <th>1</th>\n",
       "      <td>repeater, y=1</td>\n",
       "      <td>1.007418</td>\n",
       "    </tr>\n",
       "    <tr>\n",
       "      <th>2</th>\n",
       "      <td>capital_island, y=1</td>\n",
       "      <td>1.006955</td>\n",
       "    </tr>\n",
       "    <tr>\n",
       "      <th>3</th>\n",
       "      <td>public_private, y=1</td>\n",
       "      <td>0.988392</td>\n",
       "    </tr>\n",
       "    <tr>\n",
       "      <th>4</th>\n",
       "      <td>a1, y=0</td>\n",
       "      <td>0.993669</td>\n",
       "    </tr>\n",
       "    <tr>\n",
       "      <th>5</th>\n",
       "      <td>repeater, y=0</td>\n",
       "      <td>0.992582</td>\n",
       "    </tr>\n",
       "    <tr>\n",
       "      <th>6</th>\n",
       "      <td>capital_island, y=0</td>\n",
       "      <td>0.993045</td>\n",
       "    </tr>\n",
       "    <tr>\n",
       "      <th>7</th>\n",
       "      <td>public_private, y=0</td>\n",
       "      <td>1.011888</td>\n",
       "    </tr>\n",
       "  </tbody>\n",
       "</table>\n",
       "</div>"
      ],
      "text/plain": [
       "             Attribute  Disparate Impact\n",
       "0              a1, y=1          1.006331\n",
       "1        repeater, y=1          1.007418\n",
       "2  capital_island, y=1          1.006955\n",
       "3  public_private, y=1          0.988392\n",
       "4              a1, y=0          0.993669\n",
       "5        repeater, y=0          0.992582\n",
       "6  capital_island, y=0          0.993045\n",
       "7  public_private, y=0          1.011888"
      ]
     },
     "execution_count": 14,
     "metadata": {},
     "output_type": "execute_result"
    }
   ],
   "source": [
    "#check for distribution of different groups\n",
    "target = 'score_binary'\n",
    "evaluation_report(final_dataset, protected_attributes, target)"
   ]
  },
  {
   "cell_type": "code",
   "execution_count": 21,
   "metadata": {},
   "outputs": [
    {
     "name": "stdout",
     "output_type": "stream",
     "text": [
      "After balance DIDI: 16.84313672076567\n"
     ]
    }
   ],
   "source": [
    "didi = DIDI(False, protected_attributes)\n",
    "didi_result_after = didi(final_dataset, final_dataset['score_MAT'])\n",
    "print(f'After balance DIDI: {didi_result_after}')"
   ]
  },
  {
   "cell_type": "code",
   "execution_count": 16,
   "metadata": {},
   "outputs": [],
   "source": [
    "final_dataset = final_dataset.drop(target, axis=1)"
   ]
  },
  {
   "cell_type": "markdown",
   "metadata": {},
   "source": [
    "### Modeling"
   ]
  },
  {
   "cell_type": "code",
   "execution_count": 7,
   "metadata": {},
   "outputs": [],
   "source": [
    "from sklearn.ensemble import RandomForestRegressor, GradientBoostingRegressor, StackingRegressor\n",
    "from sklearn.tree import DecisionTreeRegressor\n",
    "from sklearn.linear_model import Lasso\n",
    "from sklearn.svm import SVR\n",
    "from sklearn.metrics import accuracy_score, mean_absolute_error, mean_squared_error\n",
    "from sklearn.model_selection import train_test_split"
   ]
  },
  {
   "cell_type": "code",
   "execution_count": 8,
   "metadata": {},
   "outputs": [],
   "source": [
    "def get_train_test(dataset, test_size=0.2, random_state=42):\n",
    "    train_dataset, test_dataset = train_test_split(dataset, test_size=0.2, random_state=42)\n",
    "    return train_dataset, test_dataset"
   ]
  },
  {
   "cell_type": "markdown",
   "metadata": {},
   "source": [
    "#### RandomForest"
   ]
  },
  {
   "cell_type": "code",
   "execution_count": 22,
   "metadata": {},
   "outputs": [],
   "source": [
    "def random_forest(dataset):\n",
    "    \n",
    "    train_dataset, test_dataset = get_train_test(dataset)\n",
    "\n",
    "    X_train = train_dataset.iloc[:, 1:]\n",
    "    y_train = train_dataset.iloc[:, 0]\n",
    "\n",
    "    X_test = test_dataset.iloc[:, 1:]\n",
    "    y_test = test_dataset.iloc[:, 0]\n",
    "\n",
    "\n",
    "    rf = RandomForestRegressor(n_estimators=100, random_state=42)\n",
    "    rf.fit(X_train, y_train)\n",
    "\n",
    "    y_pred = rf.predict(X_test)\n",
    "    accuracy = mean_absolute_error(y_test, y_pred)\n",
    "    print(f'MAE: {accuracy}')\n",
    "\n",
    "    return y_test, y_pred, accuracy"
   ]
  },
  {
   "cell_type": "code",
   "execution_count": 23,
   "metadata": {},
   "outputs": [
    {
     "name": "stdout",
     "output_type": "stream",
     "text": [
      "MAE: 64.46476212317721\n"
     ]
    }
   ],
   "source": [
    "y, p , loss_before= random_forest(dataset)"
   ]
  },
  {
   "cell_type": "code",
   "execution_count": 24,
   "metadata": {},
   "outputs": [
    {
     "name": "stdout",
     "output_type": "stream",
     "text": [
      "MAE: 72.71183387830196\n"
     ]
    }
   ],
   "source": [
    "y, p, loss_after = random_forest(final_dataset)"
   ]
  },
  {
   "cell_type": "markdown",
   "metadata": {},
   "source": [
    "#### Decision Tree"
   ]
  },
  {
   "cell_type": "code",
   "execution_count": 21,
   "metadata": {},
   "outputs": [],
   "source": [
    "def decision_tree(dataset):\n",
    "    \n",
    "    train_dataset, test_dataset = get_train_test(dataset)\n",
    "\n",
    "    X_train = train_dataset.iloc[:, 1:]\n",
    "    y_train = train_dataset.iloc[:, 0]\n",
    "\n",
    "    X_test = test_dataset.iloc[:, 1:]\n",
    "    y_test = test_dataset.iloc[:, 0]\n",
    "\n",
    "    dt = DecisionTreeRegressor(random_state=42)\n",
    "    dt.fit(X_train, y_train)\n",
    "\n",
    "    y_pred = dt.predict(X_test)\n",
    "    accuracy = mean_absolute_error(y_test, y_pred)\n",
    "    print(f'Test Accuracy: {accuracy}')"
   ]
  },
  {
   "cell_type": "code",
   "execution_count": 22,
   "metadata": {},
   "outputs": [
    {
     "name": "stdout",
     "output_type": "stream",
     "text": [
      "Test Accuracy: 93.35505914956669\n"
     ]
    }
   ],
   "source": [
    "decision_tree(data_3_16_MAT)"
   ]
  },
  {
   "cell_type": "markdown",
   "metadata": {},
   "source": [
    "#### Gradient Boosting Regression (GBR)"
   ]
  },
  {
   "cell_type": "code",
   "execution_count": 34,
   "metadata": {},
   "outputs": [],
   "source": [
    "def gradient_boosting(dataset):\n",
    "    \n",
    "    train_dataset, test_dataset = get_train_test(dataset)\n",
    "\n",
    "    X_train = train_dataset.iloc[:, 1:]\n",
    "    y_train = train_dataset.iloc[:, 0]\n",
    "\n",
    "    X_test = test_dataset.iloc[:, 1:]\n",
    "    y_test = test_dataset.iloc[:, 0]\n",
    "\n",
    "    gb = GradientBoostingRegressor(n_estimators=100, random_state=42)\n",
    "    gb.fit(X_train, y_train)\n",
    "\n",
    "    y_pred = gb.predict(X_test)\n",
    "    accuracy = mean_absolute_error(y_test, y_pred)\n",
    "    print(f'Test Accuracy: {accuracy}')"
   ]
  },
  {
   "cell_type": "code",
   "execution_count": 35,
   "metadata": {},
   "outputs": [
    {
     "name": "stdout",
     "output_type": "stream",
     "text": [
      "Test Accuracy: 68.77573038589506\n"
     ]
    }
   ],
   "source": [
    "gradient_boosting(data_3_16_MAT)"
   ]
  },
  {
   "cell_type": "markdown",
   "metadata": {},
   "source": [
    "#### Lasso Regression"
   ]
  },
  {
   "cell_type": "code",
   "execution_count": 37,
   "metadata": {},
   "outputs": [],
   "source": [
    "def lasso_regression(dataset):\n",
    "\n",
    "    train_dataset, test_dataset = get_train_test(dataset)\n",
    "\n",
    "    X_train = train_dataset.iloc[:, 1:]\n",
    "    y_train = train_dataset.iloc[:, 0]\n",
    "\n",
    "    X_test = test_dataset.iloc[:, 1:]\n",
    "    y_test = test_dataset.iloc[:, 0]\n",
    "\n",
    "    lasso = Lasso(alpha=0.1)\n",
    "    lasso.fit(X_train, y_train)\n",
    "\n",
    "    y_pred = lasso.predict(X_test)\n",
    "    accuracy = mean_absolute_error(y_test, y_pred)\n",
    "    print(f'Test Accuracy: {accuracy}')"
   ]
  },
  {
   "cell_type": "code",
   "execution_count": 38,
   "metadata": {},
   "outputs": [
    {
     "name": "stdout",
     "output_type": "stream",
     "text": [
      "Test Accuracy: 69.53445079269788\n"
     ]
    }
   ],
   "source": [
    "lasso_regression(data_3_16_MAT)"
   ]
  },
  {
   "cell_type": "markdown",
   "metadata": {},
   "source": [
    "### Results"
   ]
  },
  {
   "cell_type": "code",
   "execution_count": 25,
   "metadata": {},
   "outputs": [
    {
     "data": {
      "image/png": "[encoded data removed]",
      "text/plain": [
       "<Figure size 640x480 with 1 Axes>"
      ]
     },
     "metadata": {},
     "output_type": "display_data"
    }
   ],
   "source": [
    "import matplotlib.pyplot as plt\n",
    "import numpy as np\n",
    "\n",
    "labels = ['DIDI', 'MAE']\n",
    "before_balancing = [didi_result_before, loss_before]\n",
    "after_balancing = [didi_result_after, loss_after]\n",
    "\n",
    "x = np.arange(len(labels)) \n",
    "width = 0.35  \n",
    "\n",
    "fig, ax = plt.subplots()\n",
    "bars1 = ax.bar(x - width/2, before_balancing, width, label='Balance Before')\n",
    "bars2 = ax.bar(x + width/2, after_balancing, width, label='Balance After')\n",
    "\n",
    "ax.set_ylabel('Scores')\n",
    "ax.set_title('DIDI and MAE before and after balancing')\n",
    "ax.set_xticks(x)\n",
    "ax.set_xticklabels(labels)\n",
    "ax.legend()\n",
    "\n",
    "def add_labels(bars):\n",
    "    for bar in bars:\n",
    "        height = bar.get_height()\n",
    "        ax.annotate('{}'.format(height),\n",
    "                    xy=(bar.get_x() + bar.get_width() / 2, height),\n",
    "                    xytext=(0, 3), \n",
    "                    textcoords=\"offset points\",\n",
    "                    ha='center', va='bottom')\n",
    "\n",
    "add_labels(bars1)\n",
    "add_labels(bars2)\n",
    "\n",
    "plt.show()\n"
   ]
  }
 ],
 "metadata": {
  "kernelspec": {
   "display_name": "Python 3",
   "language": "python",
   "name": "python3"
  },
  "language_info": {
   "codemirror_mode": {
    "name": "ipython",
    "version": 3
   },
   "file_extension": ".py",
   "mimetype": "text/x-python",
   "name": "python",
   "nbconvert_exporter": "python",
   "pygments_lexer": "ipython3",
   "version": "3.11.5"
  }
 },
 "nbformat": 4,
 "nbformat_minor": 2
}
